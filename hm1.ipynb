{
 "cells": [
  {
   "cell_type": "markdown",
   "metadata": {
    "colab_type": "text",
    "id": "X9wfb-pqPzYu"
   },
   "source": [
    "# Циклы и условия\n",
    "\n",
    "## Домашняя работа\n",
    "Эта домашняя работа должна быть решена **БЕЗ** использования готовых функций (если именно они \"решают\" задачу) и сторонних библиотек. Используйте циклы и условия."
   ]
  },
  {
   "cell_type": "markdown",
   "metadata": {
    "colab_type": "text",
    "id": "DMpu8uUoPzY0"
   },
   "source": [
    "## 1\n",
    "\n",
    "Напишите программу, которая будет запрашивать на вход числа (через запятую на одной строке) и выводить наибольшее значение из списка.\n",
    "<br><br>\n",
    "*Ограничение: нельзя пользоваться готовой функцией для нахождения максимума (например, `max()`), готовыми функциями и методами сортировки (например, `sort()`,`sorted()`), функцией set().*\n",
    "<br>\n",
    "<br>\n",
    "*Формат ввода:* <br>\n",
    "1, 2, 3, 6, 7<br><br>\n",
    "\n",
    "*Формат вывода:* <br>\n",
    "7"
   ]
  },
  {
   "cell_type": "code",
   "execution_count": 2,
   "metadata": {
    "colab": {},
    "colab_type": "code",
    "id": "dHs34-p-PzY3"
   },
   "outputs": [
    {
     "name": "stdout",
     "output_type": "stream",
     "text": [
      "0\n"
     ]
    }
   ],
   "source": [
    "### \n",
    "maximum = 0\n",
    "a = list(map(int, input().split(','))\n",
    "for i in a:\n",
    "    if i  > maximum:\n",
    "         maximum = i\n",
    "    else:\n",
    "         continue\n",
    "print (maximum)\n",
    "###\n"
   ]
  },
  {
   "cell_type": "markdown",
   "metadata": {
    "colab_type": "text",
    "id": "sCF9Hd9rPzZD"
   },
   "source": [
    "### 2\n",
    "\n",
    "Напишите программу, которая будет запрашивать на вход числа (каждое с новой строки) до тех пор, пока не будет введен ноль (0). На выход должно выводиться второе по величине значение.\n",
    "<br><br>\n",
    "*Ограничение: нельзя пользоваться готовой функцией для нахождения максимума (например, `max()`), готовыми функциями и методами сортировки (например, `sort()`,`sorted()`).*\n",
    "<br><br>\n",
    "*Формат ввода:* <br>\n",
    "4<br>\n",
    "6<br>\n",
    "7<br>\n",
    "7<br>\n",
    "0\n",
    "<br><br>\n",
    "\n",
    "*Формат вывода:* <br>\n",
    "6"
   ]
  },
  {
   "cell_type": "code",
   "execution_count": 0,
   "metadata": {
    "colab": {},
    "colab_type": "code",
    "id": "yrJk-mEjPzZF"
   },
   "outputs": [],
   "source": [
    "### \n",
    "a_1 = 0\n",
    "b_2 = 0\n",
    "x = int(input())\n",
    "while x != 0:\n",
    "    if x > a_1:\n",
    "        a_1 = x\n",
    "        b_2 = a_1\n",
    "    elif a_1 > x > b_2:\n",
    "        b_2 = x\n",
    "    else:\n",
    "        continue        \n",
    "print (b_2)\n",
    "###\n",
    "\n"
   ]
  },
  {
   "cell_type": "markdown",
   "metadata": {
    "colab_type": "text",
    "id": "fdJZMUtGPzZN"
   },
   "source": [
    "### 3\n",
    "\n",
    "Напишите программу, которая принимает на вход год, а на выход выдает количество дней в этом году.\n",
    "<br><br>\n",
    "*Формат ввода:* <br>\n",
    "2020<br><br>\n",
    "\n",
    "*Формат вывода:* <br>\n",
    "366"
   ]
  },
  {
   "cell_type": "code",
   "execution_count": 0,
   "metadata": {
    "colab": {},
    "colab_type": "code",
    "id": "Dk6PDx-jPzZP"
   },
   "outputs": [],
   "source": [
    "### \n",
    "a  = int (input ())\n",
    "if (a % 4 == 0) is True: \n",
    "    print (366)\n",
    "else:\n",
    "    print (365)\n",
    "###\n",
    "\n"
   ]
  },
  {
   "cell_type": "markdown",
   "metadata": {
    "colab_type": "text",
    "id": "wFGBh0dYPzZV"
   },
   "source": [
    "### 4\n",
    "\n",
    "Напишите программу, которая на вход получает координаты двух клеток шахматной доски и выводит соощение о том, являются ли эти клетки одного цвета.\n",
    "<br><br>\n",
    "*Формат ввода:* <br>\n",
    "c2<br>\n",
    "e4<br><br>\n",
    "\n",
    "*Формат вывода:* <br>\n",
    "Клетки одинакового цвета"
   ]
  },
  {
   "cell_type": "code",
   "execution_count": 0,
   "metadata": {
    "colab": {},
    "colab_type": "code",
    "id": "k-8POcqGPzZW"
   },
   "outputs": [],
   "source": [
    "### \n",
    "white = 0\n",
    "black = 0\n",
    "enter1 = input(\"Введите координаты первой клетки \")\n",
    "k = list(enter1)\n",
    "enter2= input(\"Введите координаты второй клетки \")\n",
    "l = list(enter2)\n",
    "k[1] = int(k[1])\n",
    "l[1] = int(l[1])\n",
    "if (k[0] == ('a' or 'c' or 'e' or 'g')) is True:\n",
    "    if (k[1] % 2 == 0) is True:\n",
    "        k = 'white'\n",
    "    else:\n",
    "        k = 'black'\n",
    "else:\n",
    "    if (k[1] % 2 == 0) is True:\n",
    "        k = 'black'\n",
    "    else:\n",
    "        k ='white'\n",
    "if (l[0] ==('a' or 'c' or 'e' or 'g'))  is True:\n",
    "    if (l[1] % 2 == 0) is True:\n",
    "        l = 'white'\n",
    "    else:\n",
    "        l = 'black'\n",
    "else:\n",
    "    if (l[1] % 2 == 0) is True:\n",
    "        l = 'black'\n",
    "    else:\n",
    "        l = 'white'\n",
    "if (k == 'white' and l == 'white') is True:         \n",
    "    print (\"Клетки одинаковые\")\n",
    "elif(k == 'black' and l == 'black') is True:\n",
    "    print (\"Клетки одинаковые\") \n",
    "else:\n",
    "    print (\"Клетки разные\")\n",
    "###\n",
    "\n"
   ]
  },
  {
   "cell_type": "markdown",
   "metadata": {
    "colab_type": "text",
    "id": "O594rz0tPzZb"
   },
   "source": [
    "### 5\n",
    "\n",
    "Напишите программу, которая на вход получает число, а на выходе сообщает, простое это число или составное.\n",
    "<br><br>\n",
    "*Формат ввода:* <br>\n",
    "169<br><br>\n",
    "\n",
    "*Формат вывода:* <br>\n",
    "Составное число"
   ]
  },
  {
   "cell_type": "code",
   "execution_count": 0,
   "metadata": {
    "colab": {},
    "colab_type": "code",
    "id": "-Oy1AesyPzZd"
   },
   "outputs": [],
   "source": [
    "### \n",
    "a = int(input ('Введите натуральное число, кроме 1: '))\n",
    "if (a == 2) is True:\n",
    "    print ('Простое число')\n",
    "else:\n",
    "    my_list = list(range(1, a))\n",
    "    n = list() \n",
    "    for i in my_list:\n",
    "        if ((a % i) != 0)is True: \n",
    "            n.append(1)\n",
    "    s = len(n)\n",
    "    if (s >= 1):\n",
    "        print (\"Простое число\")\n",
    "    else:\n",
    "        print ('Составное число')\n",
    "###\n",
    "\n"
   ]
  },
  {
   "cell_type": "markdown",
   "metadata": {
    "colab_type": "text",
    "id": "QzBAQaW8PzZg"
   },
   "source": [
    "### 6\n",
    "\n",
    "Напишите программу, которая на вход получает целое число больше 2 и выводит по нему его наименьший натуральный делитель, отличный от 1.\n",
    "<br><br>\n",
    "*Формат ввода:* <br>\n",
    "169<br><br>\n",
    "\n",
    "*Формат вывода:* <br>\n",
    "13"
   ]
  },
  {
   "cell_type": "code",
   "execution_count": 0,
   "metadata": {
    "colab": {},
    "colab_type": "code",
    "id": "Z2QzgAYKPzZi"
   },
   "outputs": [],
   "source": [
    "### \n",
    "num = int (input ('Введите натуральное число, больше 2: '))\n",
    "my_list = list(range(3, (num + 1)))\n",
    "for i in range(3, (num + 1)):\n",
    "    if ((num % i) != 0) is True:\n",
    "        i +=1\n",
    "        continue\n",
    "    else:\n",
    "        print(i)\n",
    "        break \n",
    "        \n",
    "###\n",
    "\n"
   ]
  },
  {
   "cell_type": "markdown",
   "metadata": {
    "colab_type": "text",
    "id": "Mdg_IAfFPzZk"
   },
   "source": [
    "### 7\n",
    "\n",
    "Напишите программу, которая поможет составить план тренировок для подготовки к марафону. Она получает на вход число километров на планируемом марафоне, сколько пользователь планирует пробежать в первый день тренировок и на сколько процентов планирует увеличивать каждый день это расстояние. На выходе программа должна выдавать, сколько дней пользователю потребуется для того, чтобы подготовиться пробежать целевое количество километров.\n",
    "<br><br>\n",
    "*Ограничение: нельзя пользоваться функцией `ceil()` из модуля `math` и ее аналогами.*\n",
    "<br><br>\n",
    "*Формат ввода:* <br>\n",
    "12<br>\n",
    "3<br>\n",
    "10<br><br>\n",
    "\n",
    "*Формат вывода:* <br>\n",
    "16"
   ]
  },
  {
   "cell_type": "code",
   "execution_count": 0,
   "metadata": {
    "colab": {},
    "colab_type": "code",
    "id": "mXeF6AMWPzZl"
   },
   "outputs": [],
   "source": [
    "### \n",
    "a = int (input ('Введите, сколько километров планируется пробежать на марафоне '))\n",
    "b = int (input (\"Введите, сколько километров планируется пробежать в первый день тренировок \"))\n",
    "c = int (input (\"Введите, на сколько процентов планируется увеличивать ежедневные тренировки \"))\n",
    "f = float (c / 100)\n",
    "d = 1\n",
    "while b < a:\n",
    "    b = b + (b * f)\n",
    "    d += 1\n",
    "else:\n",
    "    print (d)\n",
    "###\n",
    "\n"
   ]
  },
  {
   "cell_type": "markdown",
   "metadata": {
    "colab_type": "text",
    "id": "sxKoWpYKPzZo"
   },
   "source": [
    "### 8\n",
    "\n",
    "Напишите программу, которая на вход получает число n и считает по нему сумму 1²+2²+3²+...+n².\n",
    "<br><br>\n",
    "*Ограничение: нельзя пользоваться функцией `sum()` и ее аналогами.*\n",
    "\n",
    "*Формат ввода:* <br>\n",
    "3<br><br>\n",
    "\n",
    "*Формат вывода:* <br>\n",
    "14"
   ]
  },
  {
   "cell_type": "code",
   "execution_count": 0,
   "metadata": {
    "colab": {},
    "colab_type": "code",
    "id": "RiPlWLm6PzZp"
   },
   "outputs": [],
   "source": [
    "### \n",
    "n = int(input(\"Введите любое целое число больше единицы \"))\n",
    "n1 = n + 1\n",
    "b = 0\n",
    "for i in range((n1)):\n",
    "    a = i ** 2\n",
    "    b += a\n",
    "print(b)\n",
    "###\n",
    "\n"
   ]
  },
  {
   "cell_type": "markdown",
   "metadata": {
    "colab_type": "text",
    "id": "aXzG4-wdPzZr"
   },
   "source": [
    "## 9\n",
    "\n",
    "Напишите программу, которая на вход получает число n и считает по нему сумму сумму 1! + 2! + 3! + ... + n!\n",
    "<br><br>\n",
    "*Ограничение: нельзя пользоваться готовой функцией `factorial()` из модуля `math`, функцией `sum()` и их аналогами.*\n",
    "\n",
    "*Формат ввода:* <br>\n",
    "3<br><br>\n",
    "\n",
    "*Формат вывода:* <br>\n",
    "9"
   ]
  },
  {
   "cell_type": "code",
   "execution_count": 0,
   "metadata": {
    "colab": {},
    "colab_type": "code",
    "id": "KBEXUEDQPzZs"
   },
   "outputs": [],
   "source": [
    "### \n",
    "n = int(input(\"Введите любое целое число больше единицы \"))\n",
    "b = 1\n",
    "c = 0\n",
    "for i in range(1, n+1):\n",
    "    c = c+ (b *i)\n",
    "    b =i\n",
    "print(c)\n",
    "###\n",
    "\n"
   ]
  },
  {
   "cell_type": "markdown",
   "metadata": {
    "colab_type": "text",
    "id": "4nsOuiWVPzZu"
   },
   "source": [
    "### 10\n",
    "\n",
    "Напишите программу, которая получает на вход последовательность чисел (каждое число с новой строки до того момента, пока пользователь не введет 0) и считает количество четных элементов в последовательности.\n",
    "<br><br>\n",
    "*Формат ввода:* <br>\n",
    "5<br>\n",
    "4<br>\n",
    "2<br>\n",
    "7<br>\n",
    "8<br>\n",
    "9<br>\n",
    "0<br><br>\n",
    "\n",
    "*Формат вывода:* <br>\n",
    "3"
   ]
  },
  {
   "cell_type": "code",
   "execution_count": 0,
   "metadata": {
    "colab": {},
    "colab_type": "code",
    "id": "xktF2cocPzZv"
   },
   "outputs": [],
   "source": [
    "### \n",
    "c = 0\n",
    "while True:\n",
    "  z = int(input())\n",
    "  if z == 0:\n",
    "    break\n",
    "  elif not z % 2:\n",
    "    c += 1\n",
    "print(c)\n",
    "\n",
    "###\n",
    "\n"
   ]
  },
  {
   "cell_type": "markdown",
   "metadata": {
    "colab_type": "text",
    "id": "hyC9QGXPPzZx"
   },
   "source": [
    "### 11\n",
    "\n",
    "Напишите программу, которая формирует список игроков женской команды по мини-футболу. Программа должна записывать возраст и пол претендента. Возраст должен запрашиваться после пола и только в том случае, если пол претендента женский. Если пол претендента мужской, программа должна сообщать о том, что он не подходит. Возраст претенденток должен быть от 18 до 35 лет. Если кандидат удовлетворяет требованиям, должно появляться соответствующее сообщение. Всего в команде могут быть только шесть человек. Когда необходимое число набирается, запись закрывается и выводится сообщение \"Запись в команду закрыта\".\n"
   ]
  },
  {
   "cell_type": "code",
   "execution_count": 0,
   "metadata": {
    "colab": {},
    "colab_type": "code",
    "id": "qSDK-zQ4PzZx"
   },
   "outputs": [],
   "source": [
    "### \n",
    "pretendents = input (\"Имя претендента \")\n",
    "sex = input ('')\n",
    "while pretendents <= 6:\n",
    "    if sex != female:\n",
    "    print (\"Это женская команда по мини-футболу, мы не можем принять вас в команду. Приходите на наши соревнования\")\n",
    "    elif age >= 18 and <= 35:\n",
    "    print ('Поздравляем, вы приняты в команду!')\n",
    "    else:\n",
    "        print('Жаль, но в команде принимают участие женщины от 18 до 35 лет')\n",
    "else:\n",
    "    print (\"Сожалеем, запись закрыта\")\n",
    "def pretendent (sex, age)\n",
    "    sex = female\n",
    "    age >= 18 and <= 35\n",
    "    return sex, age\n",
    "###\n",
    "\n"
   ]
  },
  {
   "cell_type": "markdown",
   "metadata": {
    "colab_type": "text",
    "id": "B4JAB8AqPzZ0"
   },
   "source": [
    "### 12\n",
    "\n",
    "\n",
    "Напишите программу, которая на вход получает максимальную ширину ромба и рисует его. Гарантируется, что входное число всегда нечетное.\n",
    "<br><br>\n",
    "\n",
    "*Формат ввода:* <br>\n",
    "5<br><br>\n",
    "\n",
    "*Формат вывода:* <br>\n",
    "```  \n",
    "  *\n",
    " ***\n",
    "*****\n",
    " ***\n",
    "  *```"
   ]
  },
  {
   "cell_type": "code",
   "execution_count": 0,
   "metadata": {
    "colab": {},
    "colab_type": "code",
    "id": "WVp7O75oPzZ0"
   },
   "outputs": [],
   "source": [
    "### \n",
    "a = int (input('Введите максимальную ширину ромба '))\n",
    "z = int((a - 1) / 2)\n",
    "k = 1\n",
    "s = 1\n",
    "m = 1\n",
    "p = a - 2\n",
    "while s <= ((a + 1 ) / 2):\n",
    "    print ((z * ' '),('*' * k))\n",
    "    z = z - 1\n",
    "    k += 2\n",
    "    s += 1\n",
    "while s <= a:\n",
    "    print ((m * ' '), (('*') * p))\n",
    "    m = m + 1\n",
    "    p = p - 2\n",
    "    s += 1    \n",
    "###\n",
    "\n"
   ]
  },
  {
   "cell_type": "markdown",
   "metadata": {
    "colab_type": "text",
    "id": "xrIXWj0yPzZ2"
   },
   "source": [
    "### 13\n",
    "\n",
    "Напишите программу, которая запрашивает у пользователя сторону квадрата и символ, а затем рисует этот символ по диагоналям квадрата. Гарантируется, что входное число всегда нечетное.\n",
    "<br><br>\n",
    "\n",
    "*Формат ввода:* <br>\n",
    "5<br>\n",
    "\\#<br><br>\n",
    "\n",
    "*Формат вывода:* <br>\n",
    "```\n",
    " \n",
    "#   #\n",
    " # #\n",
    "  #  \n",
    " # #\n",
    "#   #\n",
    "```"
   ]
  },
  {
   "cell_type": "code",
   "execution_count": 0,
   "metadata": {
    "colab": {},
    "colab_type": "code",
    "id": "oUKNB9TaPzZ3"
   },
   "outputs": [],
   "source": [
    "### \n",
    "a = int (input ('Введите длину стороны квадрата '))\n",
    "b = input ('Введите знак ')\n",
    "s = 1\n",
    "c = a - 3\n",
    "z = 0\n",
    "while s < ((a + 1) / 2):\n",
    "    print ((z * ' '), b, (c * ' '), b)\n",
    "    z += 1\n",
    "    c -= 2\n",
    "    s += 1\n",
    "else:\n",
    "    print ((z * ' '), b,)\n",
    "    z -= 1\n",
    "    c = 0\n",
    "    s += 1\n",
    "while s <= a:\n",
    "    print ((z * ' '), b, (c * ' '), b)\n",
    "    c += 2\n",
    "    s += 1\n",
    "    z -= 1\n",
    "###\n",
    "\n"
   ]
  },
  {
   "cell_type": "markdown",
   "metadata": {
    "colab_type": "text",
    "id": "3GaiPsFYPzZ_"
   },
   "source": [
    "### 14\n",
    "\n",
    "В корзине лежат шары. Если разложить их в кучи по 2, останется один. Если разложить в кучи по 3, останется один. Если разложить в кучи по 4, останется один. Если разложить в кучи по 5, останется один. Если разложить в кучи по 6, останется один. Если разложить в кучи по 7, не будет остатка. Нужно найти минимальное количество шаров, удовлетворяющее условию.  <br>"
   ]
  },
  {
   "cell_type": "code",
   "execution_count": 0,
   "metadata": {
    "colab": {},
    "colab_type": "code",
    "id": "V2msEhQkPzZ_"
   },
   "outputs": [],
   "source": [
    "### \n",
    "for i in range (7,1000000000,1):\n",
    "    while ((i % 2 == 1) and (i % 3 == 1) and (i % 4 == 1) and (i % 5 == 1) and (i % 6 == 1)\n",
    "        and (i % 7 == 0)):\n",
    "        print ('Минимальное число шаров в корзине ',i)\n",
    "        break\n",
    "###\n",
    "\n"
   ]
  },
  {
   "cell_type": "markdown",
   "metadata": {
    "colab_type": "text",
    "id": "5pOjlON-PzaC"
   },
   "source": [
    "### 15\n",
    "\n",
    "Рабочие клеили обои на стены. Первую стену поклеили за M минут, а каждую следующую на 5 минут больше, чем предыдущую.\n",
    "Напишите программу, которая запрашивает сколько стен было в квартире под поклейку, а также время работы с первой стеной в минутах. Программа должна выводить, сколько **часов** рабочие потратили на поклейку обоев во всей квартире. Час отсчитывается с первой минуты. Ответом должно быть целое число. \n",
    "<br><br>\n",
    "*Ограничение: нельзя пользоваться готовыми функциями `bool()`, `floor()` и их аналогами.*\n",
    "<br><br>\n",
    "*Формат ввода:* <br>\n",
    "6<br>\n",
    "10<br><br>\n",
    "\n",
    "*Формат вывода:* <br>\n",
    "3"
   ]
  },
  {
   "cell_type": "code",
   "execution_count": 0,
   "metadata": {
    "colab": {},
    "colab_type": "code",
    "id": "Pmu96rWGPzaD"
   },
   "outputs": [],
   "source": [
    "### \n",
    "a = int (input (\"Введите количество стен \"))\n",
    "b = int (input (\"Введите продолжительность работы с первой стеной,мин \"))\n",
    "z = 0\n",
    "c = 0\n",
    "while z < a and a > 1: \n",
    "    c +=b\n",
    "    b +=5\n",
    "    z += 1\n",
    "else:  \n",
    "    if b % 60 != 0:\n",
    "        c = b //60\n",
    "    else:\n",
    "        c = b / 60\n",
    "    print(c)\n",
    "### "
   ]
  },
  {
   "cell_type": "markdown",
   "metadata": {
    "colab_type": "text",
    "id": "63C6Za3CPzaF"
   },
   "source": [
    "### 16\n",
    "\n",
    "Напишите программу, которая убирает из списка повторяющиеся элементы. Программа должна запрашивать на вход слова, каждое с новой строки, пока пользователь не введет пустую строку. Затем должна выводить список без повторяющихся элементов. \n",
    "<br><br>\n",
    "*Ограничение: нельзя пользоваться готовой функцией `set()` и ее аналогами.*\n",
    "\n",
    "<br><br>\n",
    "*Формат ввода:* <br>\n",
    "Алиса<br>\n",
    "Алиса<br>\n",
    "Алиса<br>\n",
    "Петя<br>\n",
    "<br><br>\n",
    "\n",
    "*Формат вывода:* <br>\n",
    "[Алиса, Петя]"
   ]
  },
  {
   "cell_type": "code",
   "execution_count": 0,
   "metadata": {
    "colab": {},
    "colab_type": "code",
    "id": "MQ-eDkbAPzaG"
   },
   "outputs": [],
   "source": [
    "###  \n",
    "a = input ()\n",
    "my_set = []\n",
    "while a != ' ':\n",
    "    if a in my_set:\n",
    "        a = input ()\n",
    "    else:\n",
    "        my_set.append(a)\n",
    "        a = input ()\n",
    "else:\n",
    "        print (my_set)\n",
    "###Напишите программу, которая выводит число пар одинаковых элементов в списке. При этом если два элемента образовали пару, они не могут вступить в пару с другими элементами. Программа должна запрашивать на вход слова, каждое с новой строки, пока пользователь не введет пустую строку. "
   ]
  },
  {
   "cell_type": "markdown",
   "metadata": {
    "colab_type": "text",
    "id": "jueSDORaPzaI"
   },
   "source": [
    "### 17\n",
    "\n",
    "Напишите программу, которая выводит число пар одинаковых элементов в списке. При этом если два элемента образовали пару, они не могут вступить в пару с другими элементами. Программа должна запрашивать на вход слова, каждое с новой строки, пока пользователь не введет пустую строку. \n",
    "<br><br>\n",
    "*Формат ввода:* <br>\n",
    "Алиса<br>\n",
    "Алиса<br>\n",
    "Алиса<br>\n",
    "<br><br>\n",
    "\n",
    "*Формат вывода:* <br>\n",
    "1"
   ]
  },
  {
   "cell_type": "code",
   "execution_count": 0,
   "metadata": {
    "colab": {},
    "colab_type": "code",
    "id": "49tbEr3NPzaJ"
   },
   "outputs": [],
   "source": [
    "### \n",
    "d[]= {}\n",
    "while break:\n",
    "    if i in d is 0:\n",
    "        i=1\n",
    "    else:\n",
    "        i+=1     \n",
    "for i in d( ):\n",
    "    i=1+i//2\n",
    "    print (i)\n",
    "###\n",
    "\n"
   ]
  },
  {
   "cell_type": "markdown",
   "metadata": {
    "colab_type": "text",
    "id": "yVLcBrD-PzaN"
   },
   "source": [
    "### 18\n",
    "\n",
    "Будем считать, что кубик может иметь неограниченное количество граней (натуральное число). Напишите программу, которая запрашивает, сколько граней имеется у двух разных кубиков. Затем выводит все возможные комбинации результатов бросков двух таких кубиков. \n",
    "<br><br>\n",
    "*Формат ввода:* <br>\n",
    "3<br>\n",
    "4<br><br>\n",
    "\n",
    "*Формат вывода:* <br>\n",
    "1 1<br>\n",
    "1 2<br>\n",
    "1 3<br>\n",
    "1 4<br>\n",
    "2 1<br>\n",
    "2 2<br>\n",
    "2 3<br>\n",
    "2 4<br>\n",
    "3 1<br>\n",
    "3 2<br>\n",
    "3 3<br>\n",
    "3 4<br>"
   ]
  },
  {
   "cell_type": "code",
   "execution_count": 0,
   "metadata": {
    "colab": {},
    "colab_type": "code",
    "id": "7I2va0KwPzaR"
   },
   "outputs": [],
   "source": [
    "###  \n",
    "a = input ()\n",
    "b = input ()\n",
    "for i in range (1, a+1):\n",
    "    for q in range (1, b+1)\n",
    "    print (i,q)\n",
    "###"
   ]
  }
 ],
 "metadata": {
  "colab": {
   "collapsed_sections": [],
   "name": "jun_anl_loops_and_ifs.ipynb",
   "provenance": []
  },
  "kernelspec": {
   "display_name": "Python 3",
   "language": "python",
   "name": "python3"
  },
  "language_info": {
   "codemirror_mode": {
    "name": "ipython",
    "version": 3
   },
   "file_extension": ".py",
   "mimetype": "text/x-python",
   "name": "python",
   "nbconvert_exporter": "python",
   "pygments_lexer": "ipython3",
   "version": "3.7.6"
  }
 },
 "nbformat": 4,
 "nbformat_minor": 1
}
